{
 "cells": [
  {
   "cell_type": "markdown",
   "metadata": {},
   "source": [
    "# Bike Share Analysis in Python\n",
    "I learned a lot working on the bike share data using R for the capstone project for my Google Data Analytics certificate. I want to do the same project again but with python to experience the struggle, frustration, and sucess all over again. \n",
    "\n"
   ]
  },
  {
   "cell_type": "code",
   "execution_count": null,
   "metadata": {},
   "outputs": [],
   "source": [
    "# Setup envionment and import libraries\n",
    "from matplotlib import pyplot as plt \n",
    "import pandas as pd\n",
    "import seaborn as sns\n",
    "import numpy as np\n",
    "import glob\n",
    "from pandas.api.types import CategoricalDtype\n",
    "\n",
    "# Full output for each cell\n",
    "from IPython.core.interactiveshell import InteractiveShell\n",
    "InteractiveShell.ast_node_interactivity = \"all\""
   ]
  },
  {
   "cell_type": "code",
   "execution_count": null,
   "metadata": {},
   "outputs": [],
   "source": [
    "# Read and merge CSV files to dataframe\n",
    "df = pd.concat(map(pd.read_csv, glob.glob(\"data/*.csv\")))"
   ]
  },
  {
   "cell_type": "code",
   "execution_count": null,
   "metadata": {},
   "outputs": [],
   "source": [
    "df"
   ]
  },
  {
   "cell_type": "code",
   "execution_count": null,
   "metadata": {},
   "outputs": [],
   "source": [
    "df.info()"
   ]
  },
  {
   "cell_type": "code",
   "execution_count": null,
   "metadata": {},
   "outputs": [],
   "source": [
    "# Convert started_at and ended_at columns to DateTime format\n",
    "df['started_at'] = pd.to_datetime(df['started_at'], format = '%Y-%m-%d %H:%M:%S')\n",
    "df['ended_at'] = pd.to_datetime(df['ended_at'], format = '%Y-%m-%d %H:%M:%S')\n"
   ]
  },
  {
   "cell_type": "code",
   "execution_count": null,
   "metadata": {},
   "outputs": [],
   "source": [
    "df1 = df\n",
    "# Add columns for year, month, day, and day of the week. \n",
    "df1['year'] = df1['started_at'].dt.year\n",
    "df1['month'] = df1['started_at'].dt.month\n",
    "df1['day'] = df1['started_at'].dt.day\n",
    "df1['day_of_week'] = df1['started_at'].dt.day_name()\n",
    "\n",
    "# Order days of the week\n",
    "cats = ['Sunday', 'Monday', 'Tuesday', 'Wednesday', 'Thursday', 'Friday', 'Saturday']\n",
    "cat_type = CategoricalDtype(categories = cats, ordered = True)\n",
    "df1['day_of_week'] = df1['day_of_week'].astype(cat_type)\n"
   ]
  },
  {
   "cell_type": "code",
   "execution_count": null,
   "metadata": {},
   "outputs": [],
   "source": [
    "# Add column for ride length\n",
    "df1['ride_length'] = df1['ended_at'] - df1['started_at']\n",
    "# Convert DateTime format to seconds (int)\n",
    "df1['ride_length'] = df1['ride_length'].dt.total_seconds()"
   ]
  },
  {
   "cell_type": "code",
   "execution_count": null,
   "metadata": {},
   "outputs": [],
   "source": [
    "# Convert DateTime to seconds\n",
    "df1['ride_length'].dt.seconds\n"
   ]
  },
  {
   "cell_type": "code",
   "execution_count": null,
   "metadata": {},
   "outputs": [],
   "source": [
    "# Remove irrelevant columns and missing rows\n",
    "df1.drop(['start_lat', 'start_lng', 'end_lat', 'end_lng'], axis = 1, inplace = True)\n",
    "df1.dropna(subset = ['start_station_name', 'end_station_name'])\n"
   ]
  },
  {
   "cell_type": "code",
   "execution_count": null,
   "metadata": {},
   "outputs": [],
   "source": [
    "# Check for duplicate rows\n",
    "df_dupes = df1[df1.duplicated(['ride_id'])]\n",
    "print(df_dupes)"
   ]
  },
  {
   "cell_type": "code",
   "execution_count": null,
   "metadata": {},
   "outputs": [],
   "source": [
    "#Check for inconsistent data (i.e. more than 2 member types)\n",
    "df1['member_casual'].value_counts()\n",
    "df1['rideable_type'].value_counts()"
   ]
  },
  {
   "cell_type": "code",
   "execution_count": null,
   "metadata": {},
   "outputs": [],
   "source": [
    "# Check data is within date range\n",
    "df1['started_at'].max()\n",
    "df1['started_at'].min()"
   ]
  },
  {
   "cell_type": "code",
   "execution_count": null,
   "metadata": {},
   "outputs": [],
   "source": [
    "# Check for negative ride durations\n",
    "negative_ride_length = df1[(df1['ride_length'].dt.total_seconds() < 0)]\n",
    "print(negative_ride_length)"
   ]
  },
  {
   "cell_type": "code",
   "execution_count": null,
   "metadata": {},
   "outputs": [],
   "source": [
    "# Drop rows with docked_bike or negative ride length\n",
    "df1 = df1[(df1['rideable_type'] != 'docked_bike') & (df1['ride_length'].dt.total_seconds() > 0)]"
   ]
  },
  {
   "cell_type": "code",
   "execution_count": null,
   "metadata": {},
   "outputs": [],
   "source": [
    "df1['ride_length'].describe()"
   ]
  },
  {
   "cell_type": "code",
   "execution_count": null,
   "metadata": {},
   "outputs": [],
   "source": [
    "# Group by day of week and member type, then aggregate average ride length\n",
    "df2 = df1.groupby(['day_of_week', 'member_casual'])['ride_length'].mean()\n",
    "print(df2)"
   ]
  },
  {
   "cell_type": "code",
   "execution_count": null,
   "metadata": {},
   "outputs": [],
   "source": [
    "#Plot average ride length vs day of the week\n",
    "plt.figure(figsize=[15, 14])\n",
    "sns.barplot(data = df1, x = 'day_of_week', y = 'ride_length', hue = 'member_casual')\n",
    "plt.title('Average Ride Length vs. Day of the Week')\n",
    "plt.xlabel('Day of the Week')\n",
    "plt.ylabel('Average Ride Length (seconds)')"
   ]
  },
  {
   "cell_type": "code",
   "execution_count": null,
   "metadata": {},
   "outputs": [],
   "source": [
    "#Plot number of rides vs. day of the week\n",
    "plt.figure(figsize=[15, 14])\n",
    "sns.countplot(data = df1, x = 'day_of_week', hue = 'member_casual')"
   ]
  },
  {
   "cell_type": "code",
   "execution_count": null,
   "metadata": {},
   "outputs": [],
   "source": []
  }
 ],
 "metadata": {
  "kernelspec": {
   "display_name": "Python 3.10.5 64-bit",
   "language": "python",
   "name": "python3"
  },
  "language_info": {
   "codemirror_mode": {
    "name": "ipython",
    "version": 3
   },
   "file_extension": ".py",
   "mimetype": "text/x-python",
   "name": "python",
   "nbconvert_exporter": "python",
   "pygments_lexer": "ipython3",
   "version": "3.10.5"
  },
  "orig_nbformat": 4,
  "vscode": {
   "interpreter": {
    "hash": "853b99181d0ba022bad1ace1542ec9e2b21fc0c2da2392c4130ad8552760e2b5"
   }
  }
 },
 "nbformat": 4,
 "nbformat_minor": 2
}
