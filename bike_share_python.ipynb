{
 "cells": [
  {
   "cell_type": "markdown",
   "metadata": {},
   "source": [
    "# Bike Share Analysis in Python\n",
    "I learned a lot working on the bike share case study for my Google Data Analytics certificate. I got to apply the skills I learned from the course and experienced first hand how data can impact decisions. Working on the project allowed me to develop a strong foundation with R including how to wrangle, clean, and visualize data. \n",
    "I know that Python is another programming language used to analyze data and I want to redo the same project to demonstrate my ability with Python as well as to have a better understanding of the differences between R and Python. "
   ]
  },
  {
   "cell_type": "markdown",
   "metadata": {},
   "source": [
    "## Background\n",
    "A little background on the scenario and data:\n",
    "\n",
    "Cyclistic is a bike-share company in Chicago with a fleet of 5,824 geotracked bicycles and a network of 692 stations. They offer 3 pricing plans: single-ride passes, full-day passes, and annual memberships. Customers who purchase single-ride or full-day passes are referred to as casual riders and customers who purchase annual memberships are referred to as Cyclistic members. The company determined that annual members are more profitable than casual riders and is aiming to create a marketing campaign to maximize the number of annual members by converting casual riders.\n",
    "\n",
    "**Key stakeholder**: Lily Moreno, the director of marketing responsible for developing campaigns to promote bike-share program.\n",
    "\n",
    "**Business task**: How do annual members and casual riders use Cyclistic bikes differently?\n",
    "\n",
    "***"
   ]
  },
  {
   "cell_type": "code",
   "execution_count": null,
   "metadata": {},
   "outputs": [],
   "source": [
    "# Setup envionment and import libraries\n",
    "from matplotlib import pyplot as plt \n",
    "import pandas as pd\n",
    "import seaborn as sns\n",
    "import numpy as np\n",
    "import glob\n",
    "from pandas.api.types import CategoricalDtype\n",
    "\n",
    "# Full output for each cell\n",
    "from IPython.core.interactiveshell import InteractiveShell\n",
    "InteractiveShell.ast_node_interactivity = \"all\""
   ]
  },
  {
   "cell_type": "markdown",
   "metadata": {},
   "source": [
    "## Import Data\n",
    "Proxy data from a similar bike sharing company called Divvy was used. The data can be downloaded at <a href=\"https://divvy-tripdata.s3.amazonaws.com/index.html\" target=\"_blank\">https://divvy-tripdata.s3.amazonaws.com/index.html</a>\n",
    "12 months of data (12 CSV files) were downloaded and merged into one dataframe.\n",
    "The dataframe was previewed to confirm merge was sucessful and to examine column headers and data types. "
   ]
  },
  {
   "cell_type": "code",
   "execution_count": null,
   "metadata": {},
   "outputs": [],
   "source": [
    "# Read and merge CSV files to dataframe\n",
    "df = pd.concat(map(pd.read_csv, glob.glob(\"data/*.csv\")))\n",
    "# Preview data\n",
    "df\n",
    "df.info()"
   ]
  },
  {
   "cell_type": "markdown",
   "metadata": {},
   "source": [
    "## Prepare Data\n",
    "`started_at` and `ended_at` columns were converted to datetime format to allow for easy creation of year, month, day, and day of the week columns. `day_of_week` was converted to a categorical data type to maintain the order of the days of the week. To determine the ride length, `start_at` was subtracted from `ended_at` which created a timedelta object. This was converted to seconds (a float data type) to allow for comparison integers later and creation of plots."
   ]
  },
  {
   "cell_type": "code",
   "execution_count": null,
   "metadata": {},
   "outputs": [],
   "source": [
    "# Convert started_at and ended_at columns to DateTime format\n",
    "df['started_at'] = pd.to_datetime(df['started_at'], format = '%Y-%m-%d %H:%M:%S')\n",
    "df['ended_at'] = pd.to_datetime(df['ended_at'], format = '%Y-%m-%d %H:%M:%S')\n",
    "\n",
    "# Add columns for year, month, day, and day of the week \n",
    "df['year'] = df['started_at'].dt.year\n",
    "df['month'] = df['started_at'].dt.month\n",
    "df['day'] = df['started_at'].dt.day\n",
    "df['day_of_week'] = df['started_at'].dt.day_name()\n",
    "\n",
    "# Order days of the week\n",
    "cats = ['Sunday', 'Monday', 'Tuesday', 'Wednesday', 'Thursday', 'Friday', 'Saturday']\n",
    "cat_type = CategoricalDtype(categories = cats, ordered = True)\n",
    "df['day_of_week'] = df['day_of_week'].astype(cat_type)\n",
    "\n",
    "# Add column for ride length\n",
    "df['ride_length'] = df['ended_at'] - df['started_at']\n",
    "# Convert DateTime format to seconds\n",
    "df['ride_length'] = df['ride_length'].dt.total_seconds()"
   ]
  },
  {
   "cell_type": "markdown",
   "metadata": {},
   "source": [
    "## Clean Data\n",
    "The data was examined to confirm each row is unique (no duplicates) and within the specified date range. Values in the `member_casual` and `rideable_type` columns were evaluated to make sure there was nothing unexpected and `ride_length` was checked for negative values. \n",
    "\n",
    "Rows with missing values were dropped along with rows containing `docked_bike` and negative ride lengths. The latitude and longitude columns were dropped because we would not be using them later for plotting. "
   ]
  },
  {
   "cell_type": "code",
   "execution_count": null,
   "metadata": {},
   "outputs": [],
   "source": [
    "# Check for duplicate rows\n",
    "df_dupes = df[df.duplicated(['ride_id'])]\n",
    "print(df_dupes)\n",
    "# Check data is within date range\n",
    "df['started_at'].max()\n",
    "df['started_at'].min()\n",
    "# Check for inconsistent data (i.e. more than 2 member types)\n",
    "df['member_casual'].value_counts()\n",
    "df['rideable_type'].value_counts()\n",
    "# Check for negative ride durations\n",
    "negative_ride_length = df[(df['ride_length'] < 0)]\n",
    "print(negative_ride_length)"
   ]
  },
  {
   "cell_type": "code",
   "execution_count": null,
   "metadata": {},
   "outputs": [],
   "source": [
    "# Remove irrelevant columns and missing rows\n",
    "df.drop(['start_lat', 'start_lng', 'end_lat', 'end_lng'], axis = 1, inplace = True)\n",
    "df.dropna(subset = ['start_station_name', 'end_station_name'])\n",
    "\n",
    "# Drop rows with docked_bike or negative ride length\n",
    "df = df[(df['rideable_type'] != 'docked_bike') & (df['ride_length'].dt.total_seconds() > 0)]"
   ]
  },
  {
   "cell_type": "code",
   "execution_count": null,
   "metadata": {},
   "outputs": [],
   "source": [
    "df['ride_length'].describe()"
   ]
  },
  {
   "cell_type": "code",
   "execution_count": null,
   "metadata": {},
   "outputs": [],
   "source": [
    "# Group by day of week and member type, then aggregate average ride length\n",
    "df1 = df.groupby(['day_of_week', 'member_casual'])['ride_length'].mean()\n",
    "print(df1)"
   ]
  },
  {
   "cell_type": "code",
   "execution_count": null,
   "metadata": {},
   "outputs": [],
   "source": [
    "#Plot average ride length vs Month\n",
    "plt.figure(figsize=[15, 14])\n",
    "sns.barplot(data = df, x = 'day_of_week', y = 'ride_length', hue = 'member_casual')\n",
    "plt.title('Average Ride Length vs. Day of the Week')\n",
    "plt.xlabel('Day of the Week')\n",
    "plt.ylabel('Average Ride Length (seconds)')"
   ]
  },
  {
   "cell_type": "code",
   "execution_count": null,
   "metadata": {},
   "outputs": [],
   "source": [
    "#Plot number of rides vs. day of the week\n",
    "plt.figure(figsize=[15, 14])\n",
    "sns.countplot(data = df, x = 'day_of_week', hue = 'member_casual')\n",
    "plt.title('Number of Rides vs. Day of the Week')\n",
    "plt.xlabel('Day of the Week')\n",
    "plt.ylabel('Number of Rides')"
   ]
  },
  {
   "cell_type": "code",
   "execution_count": null,
   "metadata": {},
   "outputs": [],
   "source": []
  }
 ],
 "metadata": {
  "kernelspec": {
   "display_name": "Python 3.9.12 ('base')",
   "language": "python",
   "name": "python3"
  },
  "language_info": {
   "codemirror_mode": {
    "name": "ipython",
    "version": 3
   },
   "file_extension": ".py",
   "mimetype": "text/x-python",
   "name": "python",
   "nbconvert_exporter": "python",
   "pygments_lexer": "ipython3",
   "version": "3.9.12"
  },
  "orig_nbformat": 4,
  "vscode": {
   "interpreter": {
    "hash": "7562c446de4e0bc9aa653353749506332749c996fe444440b46921496a33192a"
   }
  }
 },
 "nbformat": 4,
 "nbformat_minor": 2
}
