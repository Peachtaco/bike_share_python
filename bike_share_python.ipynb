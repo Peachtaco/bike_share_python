{
 "cells": [
  {
   "cell_type": "markdown",
   "metadata": {},
   "source": [
    "# Bike Share Analysis in Python\n",
    "I learned a lot working on the bike share case study for my Google Data Analytics certificate. I got to apply the skills I learned from the course and experienced first hand how data can impact decisions. Working on the project allowed me to develop a strong foundation with R including how to wrangle, clean, and visualize data. \n",
    "I know that Python is another programming language used to analyze data and I want to redo the same project to demonstrate my ability with Python as well as to have a better understanding of the differences between R and Python. "
   ]
  },
  {
   "cell_type": "markdown",
   "metadata": {},
   "source": [
    "## Background\n",
    "A little background on the scenario and data:\n",
    "\n",
    "Cyclistic is a bike-share company in Chicago with a fleet of 5,824 geotracked bicycles and a network of 692 stations. They offer 3 pricing plans: single-ride passes, full-day passes, and annual memberships. Customers who purchase single-ride or full-day passes are referred to as casual riders and customers who purchase annual memberships are referred to as Cyclistic members. The company determined that annual members are more profitable than casual riders and is aiming to create a marketing campaign to maximize the number of annual members by converting casual riders.\n",
    "\n",
    "**Key stakeholder**: Lily Moreno, the director of marketing responsible for developing campaigns to promote bike-share program.\n",
    "\n",
    "**Business task**: How do annual members and casual riders use Cyclistic bikes differently?\n",
    "\n",
    "***\n",
    "\n",
    "I used proxy data from a similar bike sharing company called Divvy which can be downloaded here: <a href=\"https://divvy-tripdata.s3.amazonaws.com/index.html\" target=\"_blank\">https://divvy-tripdata.s3.amazonaws.com/index.html</a>\n",
    "I downloaded 12 months of data and merged 12 CSV files into a dataframe."
   ]
  },
  {
   "cell_type": "code",
   "execution_count": 1,
   "metadata": {},
   "outputs": [],
   "source": [
    "# Setup envionment and import libraries\n",
    "from matplotlib import pyplot as plt \n",
    "import pandas as pd\n",
    "import seaborn as sns\n",
    "import numpy as np\n",
    "import glob\n",
    "from pandas.api.types import CategoricalDtype\n",
    "\n",
    "# Full output for each cell\n",
    "from IPython.core.interactiveshell import InteractiveShell\n",
    "InteractiveShell.ast_node_interactivity = \"all\""
   ]
  },
  {
   "cell_type": "code",
   "execution_count": 2,
   "metadata": {},
   "outputs": [],
   "source": [
    "# Read and merge CSV files to dataframe\n",
    "df = pd.concat(map(pd.read_csv, glob.glob(\"data/*.csv\")))"
   ]
  },
  {
   "cell_type": "markdown",
   "metadata": {},
   "source": [
    "I wanted to view the data to confirm the merge was successful and to review the column names and data types. "
   ]
  },
  {
   "cell_type": "code",
   "execution_count": 3,
   "metadata": {},
   "outputs": [
    {
     "data": {
      "text/html": [
       "<div>\n",
       "<style scoped>\n",
       "    .dataframe tbody tr th:only-of-type {\n",
       "        vertical-align: middle;\n",
       "    }\n",
       "\n",
       "    .dataframe tbody tr th {\n",
       "        vertical-align: top;\n",
       "    }\n",
       "\n",
       "    .dataframe thead th {\n",
       "        text-align: right;\n",
       "    }\n",
       "</style>\n",
       "<table border=\"1\" class=\"dataframe\">\n",
       "  <thead>\n",
       "    <tr style=\"text-align: right;\">\n",
       "      <th></th>\n",
       "      <th>ride_id</th>\n",
       "      <th>rideable_type</th>\n",
       "      <th>started_at</th>\n",
       "      <th>ended_at</th>\n",
       "      <th>start_station_name</th>\n",
       "      <th>start_station_id</th>\n",
       "      <th>end_station_name</th>\n",
       "      <th>end_station_id</th>\n",
       "      <th>start_lat</th>\n",
       "      <th>start_lng</th>\n",
       "      <th>end_lat</th>\n",
       "      <th>end_lng</th>\n",
       "      <th>member_casual</th>\n",
       "    </tr>\n",
       "  </thead>\n",
       "  <tbody>\n",
       "    <tr>\n",
       "      <th>0</th>\n",
       "      <td>3564070EEFD12711</td>\n",
       "      <td>electric_bike</td>\n",
       "      <td>2022-04-06 17:42:48</td>\n",
       "      <td>2022-04-06 17:54:36</td>\n",
       "      <td>Paulina St &amp; Howard St</td>\n",
       "      <td>515</td>\n",
       "      <td>University Library (NU)</td>\n",
       "      <td>605</td>\n",
       "      <td>42.019135</td>\n",
       "      <td>-87.673532</td>\n",
       "      <td>42.052939</td>\n",
       "      <td>-87.673447</td>\n",
       "      <td>member</td>\n",
       "    </tr>\n",
       "    <tr>\n",
       "      <th>1</th>\n",
       "      <td>0B820C7FCF22F489</td>\n",
       "      <td>classic_bike</td>\n",
       "      <td>2022-04-24 19:23:07</td>\n",
       "      <td>2022-04-24 19:43:17</td>\n",
       "      <td>Wentworth Ave &amp; Cermak Rd</td>\n",
       "      <td>13075</td>\n",
       "      <td>Green St &amp; Madison St</td>\n",
       "      <td>TA1307000120</td>\n",
       "      <td>41.853085</td>\n",
       "      <td>-87.631931</td>\n",
       "      <td>41.881892</td>\n",
       "      <td>-87.648789</td>\n",
       "      <td>member</td>\n",
       "    </tr>\n",
       "    <tr>\n",
       "      <th>2</th>\n",
       "      <td>89EEEE32293F07FF</td>\n",
       "      <td>classic_bike</td>\n",
       "      <td>2022-04-20 19:29:08</td>\n",
       "      <td>2022-04-20 19:35:16</td>\n",
       "      <td>Halsted St &amp; Polk St</td>\n",
       "      <td>TA1307000121</td>\n",
       "      <td>Green St &amp; Madison St</td>\n",
       "      <td>TA1307000120</td>\n",
       "      <td>41.871840</td>\n",
       "      <td>-87.646640</td>\n",
       "      <td>41.881892</td>\n",
       "      <td>-87.648789</td>\n",
       "      <td>member</td>\n",
       "    </tr>\n",
       "    <tr>\n",
       "      <th>3</th>\n",
       "      <td>84D4751AEB31888D</td>\n",
       "      <td>classic_bike</td>\n",
       "      <td>2022-04-22 21:14:06</td>\n",
       "      <td>2022-04-22 21:23:29</td>\n",
       "      <td>Wentworth Ave &amp; Cermak Rd</td>\n",
       "      <td>13075</td>\n",
       "      <td>Delano Ct &amp; Roosevelt Rd</td>\n",
       "      <td>KA1706005007</td>\n",
       "      <td>41.853085</td>\n",
       "      <td>-87.631931</td>\n",
       "      <td>41.867491</td>\n",
       "      <td>-87.632190</td>\n",
       "      <td>casual</td>\n",
       "    </tr>\n",
       "    <tr>\n",
       "      <th>4</th>\n",
       "      <td>5664BCF0D1DE7A8B</td>\n",
       "      <td>electric_bike</td>\n",
       "      <td>2022-04-16 15:56:30</td>\n",
       "      <td>2022-04-16 16:02:11</td>\n",
       "      <td>Halsted St &amp; Polk St</td>\n",
       "      <td>TA1307000121</td>\n",
       "      <td>Clinton St &amp; Madison St</td>\n",
       "      <td>TA1305000032</td>\n",
       "      <td>41.871808</td>\n",
       "      <td>-87.646574</td>\n",
       "      <td>41.882242</td>\n",
       "      <td>-87.641066</td>\n",
       "      <td>member</td>\n",
       "    </tr>\n",
       "    <tr>\n",
       "      <th>...</th>\n",
       "      <td>...</td>\n",
       "      <td>...</td>\n",
       "      <td>...</td>\n",
       "      <td>...</td>\n",
       "      <td>...</td>\n",
       "      <td>...</td>\n",
       "      <td>...</td>\n",
       "      <td>...</td>\n",
       "      <td>...</td>\n",
       "      <td>...</td>\n",
       "      <td>...</td>\n",
       "      <td>...</td>\n",
       "      <td>...</td>\n",
       "    </tr>\n",
       "    <tr>\n",
       "      <th>634853</th>\n",
       "      <td>8891BA0053ECEC4F</td>\n",
       "      <td>electric_bike</td>\n",
       "      <td>2022-05-27 22:00:02</td>\n",
       "      <td>2022-05-27 22:07:01</td>\n",
       "      <td>Clark St &amp; Newport St</td>\n",
       "      <td>632</td>\n",
       "      <td>NaN</td>\n",
       "      <td>NaN</td>\n",
       "      <td>41.944557</td>\n",
       "      <td>-87.654830</td>\n",
       "      <td>41.920000</td>\n",
       "      <td>-87.650000</td>\n",
       "      <td>member</td>\n",
       "    </tr>\n",
       "    <tr>\n",
       "      <th>634854</th>\n",
       "      <td>47D8B5FBCADECFC1</td>\n",
       "      <td>electric_bike</td>\n",
       "      <td>2022-05-15 16:05:39</td>\n",
       "      <td>2022-05-15 16:44:12</td>\n",
       "      <td>Clark St &amp; Newport St</td>\n",
       "      <td>632</td>\n",
       "      <td>NaN</td>\n",
       "      <td>NaN</td>\n",
       "      <td>41.944479</td>\n",
       "      <td>-87.654758</td>\n",
       "      <td>41.920000</td>\n",
       "      <td>-87.760000</td>\n",
       "      <td>member</td>\n",
       "    </tr>\n",
       "    <tr>\n",
       "      <th>634855</th>\n",
       "      <td>AA8D16CF38B40703</td>\n",
       "      <td>electric_bike</td>\n",
       "      <td>2022-05-21 10:10:13</td>\n",
       "      <td>2022-05-21 10:26:09</td>\n",
       "      <td>Francisco Ave &amp; Bloomingdale Ave</td>\n",
       "      <td>429</td>\n",
       "      <td>NaN</td>\n",
       "      <td>NaN</td>\n",
       "      <td>41.910000</td>\n",
       "      <td>-87.700000</td>\n",
       "      <td>41.920000</td>\n",
       "      <td>-87.660000</td>\n",
       "      <td>casual</td>\n",
       "    </tr>\n",
       "    <tr>\n",
       "      <th>634856</th>\n",
       "      <td>897EBFD44F329E0A</td>\n",
       "      <td>electric_bike</td>\n",
       "      <td>2022-05-12 07:53:58</td>\n",
       "      <td>2022-05-12 08:01:18</td>\n",
       "      <td>Francisco Ave &amp; Bloomingdale Ave</td>\n",
       "      <td>429</td>\n",
       "      <td>NaN</td>\n",
       "      <td>NaN</td>\n",
       "      <td>41.910000</td>\n",
       "      <td>-87.700000</td>\n",
       "      <td>41.900000</td>\n",
       "      <td>-87.690000</td>\n",
       "      <td>member</td>\n",
       "    </tr>\n",
       "    <tr>\n",
       "      <th>634857</th>\n",
       "      <td>AAC23AB89E8A7733</td>\n",
       "      <td>electric_bike</td>\n",
       "      <td>2022-05-11 21:14:28</td>\n",
       "      <td>2022-05-11 21:18:16</td>\n",
       "      <td>Clark St &amp; Newport St</td>\n",
       "      <td>632</td>\n",
       "      <td>NaN</td>\n",
       "      <td>NaN</td>\n",
       "      <td>41.944567</td>\n",
       "      <td>-87.654802</td>\n",
       "      <td>41.940000</td>\n",
       "      <td>-87.650000</td>\n",
       "      <td>member</td>\n",
       "    </tr>\n",
       "  </tbody>\n",
       "</table>\n",
       "<p>1006107 rows × 13 columns</p>\n",
       "</div>"
      ],
      "text/plain": [
       "                 ride_id  rideable_type           started_at  \\\n",
       "0       3564070EEFD12711  electric_bike  2022-04-06 17:42:48   \n",
       "1       0B820C7FCF22F489   classic_bike  2022-04-24 19:23:07   \n",
       "2       89EEEE32293F07FF   classic_bike  2022-04-20 19:29:08   \n",
       "3       84D4751AEB31888D   classic_bike  2022-04-22 21:14:06   \n",
       "4       5664BCF0D1DE7A8B  electric_bike  2022-04-16 15:56:30   \n",
       "...                  ...            ...                  ...   \n",
       "634853  8891BA0053ECEC4F  electric_bike  2022-05-27 22:00:02   \n",
       "634854  47D8B5FBCADECFC1  electric_bike  2022-05-15 16:05:39   \n",
       "634855  AA8D16CF38B40703  electric_bike  2022-05-21 10:10:13   \n",
       "634856  897EBFD44F329E0A  electric_bike  2022-05-12 07:53:58   \n",
       "634857  AAC23AB89E8A7733  electric_bike  2022-05-11 21:14:28   \n",
       "\n",
       "                   ended_at                start_station_name  \\\n",
       "0       2022-04-06 17:54:36            Paulina St & Howard St   \n",
       "1       2022-04-24 19:43:17         Wentworth Ave & Cermak Rd   \n",
       "2       2022-04-20 19:35:16              Halsted St & Polk St   \n",
       "3       2022-04-22 21:23:29         Wentworth Ave & Cermak Rd   \n",
       "4       2022-04-16 16:02:11              Halsted St & Polk St   \n",
       "...                     ...                               ...   \n",
       "634853  2022-05-27 22:07:01             Clark St & Newport St   \n",
       "634854  2022-05-15 16:44:12             Clark St & Newport St   \n",
       "634855  2022-05-21 10:26:09  Francisco Ave & Bloomingdale Ave   \n",
       "634856  2022-05-12 08:01:18  Francisco Ave & Bloomingdale Ave   \n",
       "634857  2022-05-11 21:18:16             Clark St & Newport St   \n",
       "\n",
       "       start_station_id          end_station_name end_station_id  start_lat  \\\n",
       "0                   515   University Library (NU)            605  42.019135   \n",
       "1                 13075     Green St & Madison St   TA1307000120  41.853085   \n",
       "2          TA1307000121     Green St & Madison St   TA1307000120  41.871840   \n",
       "3                 13075  Delano Ct & Roosevelt Rd   KA1706005007  41.853085   \n",
       "4          TA1307000121   Clinton St & Madison St   TA1305000032  41.871808   \n",
       "...                 ...                       ...            ...        ...   \n",
       "634853              632                       NaN            NaN  41.944557   \n",
       "634854              632                       NaN            NaN  41.944479   \n",
       "634855              429                       NaN            NaN  41.910000   \n",
       "634856              429                       NaN            NaN  41.910000   \n",
       "634857              632                       NaN            NaN  41.944567   \n",
       "\n",
       "        start_lng    end_lat    end_lng member_casual  \n",
       "0      -87.673532  42.052939 -87.673447        member  \n",
       "1      -87.631931  41.881892 -87.648789        member  \n",
       "2      -87.646640  41.881892 -87.648789        member  \n",
       "3      -87.631931  41.867491 -87.632190        casual  \n",
       "4      -87.646574  41.882242 -87.641066        member  \n",
       "...           ...        ...        ...           ...  \n",
       "634853 -87.654830  41.920000 -87.650000        member  \n",
       "634854 -87.654758  41.920000 -87.760000        member  \n",
       "634855 -87.700000  41.920000 -87.660000        casual  \n",
       "634856 -87.700000  41.900000 -87.690000        member  \n",
       "634857 -87.654802  41.940000 -87.650000        member  \n",
       "\n",
       "[1006107 rows x 13 columns]"
      ]
     },
     "execution_count": 3,
     "metadata": {},
     "output_type": "execute_result"
    },
    {
     "name": "stdout",
     "output_type": "stream",
     "text": [
      "<class 'pandas.core.frame.DataFrame'>\n",
      "Int64Index: 1006107 entries, 0 to 634857\n",
      "Data columns (total 13 columns):\n",
      " #   Column              Non-Null Count    Dtype  \n",
      "---  ------              --------------    -----  \n",
      " 0   ride_id             1006107 non-null  object \n",
      " 1   rideable_type       1006107 non-null  object \n",
      " 2   started_at          1006107 non-null  object \n",
      " 3   ended_at            1006107 non-null  object \n",
      " 4   start_station_name  848516 non-null   object \n",
      " 5   start_station_id    848516 non-null   object \n",
      " 6   end_station_name    837648 non-null   object \n",
      " 7   end_station_id      837648 non-null   object \n",
      " 8   start_lat           1006107 non-null  float64\n",
      " 9   start_lng           1006107 non-null  float64\n",
      " 10  end_lat             1005068 non-null  float64\n",
      " 11  end_lng             1005068 non-null  float64\n",
      " 12  member_casual       1006107 non-null  object \n",
      "dtypes: float64(4), object(9)\n",
      "memory usage: 107.5+ MB\n"
     ]
    }
   ],
   "source": [
    "# Preview data\n",
    "df\n",
    "df.info()"
   ]
  },
  {
   "cell_type": "markdown",
   "metadata": {},
   "source": []
  },
  {
   "cell_type": "code",
   "execution_count": 4,
   "metadata": {},
   "outputs": [],
   "source": [
    "# Convert started_at and ended_at columns to DateTime format\n",
    "df['started_at'] = pd.to_datetime(df['started_at'], format = '%Y-%m-%d %H:%M:%S')\n",
    "df['ended_at'] = pd.to_datetime(df['ended_at'], format = '%Y-%m-%d %H:%M:%S')\n",
    "\n",
    "# Add columns for year, month, day, and day of the week \n",
    "df['year'] = df['started_at'].dt.year\n",
    "df['month'] = df['started_at'].dt.month\n",
    "df['day'] = df['started_at'].dt.day\n",
    "df['day_of_week'] = df['started_at'].dt.day_name()\n",
    "\n",
    "# Order days of the week\n",
    "cats = ['Sunday', 'Monday', 'Tuesday', 'Wednesday', 'Thursday', 'Friday', 'Saturday']\n",
    "cat_type = CategoricalDtype(categories = cats, ordered = True)\n",
    "df['day_of_week'] = df['day_of_week'].astype(cat_type)\n"
   ]
  },
  {
   "cell_type": "code",
   "execution_count": 11,
   "metadata": {},
   "outputs": [],
   "source": [
    "# Add column for ride length\n",
    "df['ride_length'] = df['ended_at'] - df['started_at']\n",
    "# Convert DateTime format to seconds\n",
    "df['ride_length'] = df['ride_length'].dt.total_seconds()"
   ]
  },
  {
   "cell_type": "code",
   "execution_count": 13,
   "metadata": {},
   "outputs": [
    {
     "name": "stdout",
     "output_type": "stream",
     "text": [
      "Empty DataFrame\n",
      "Columns: [ride_id, rideable_type, started_at, ended_at, start_station_name, start_station_id, end_station_name, end_station_id, start_lat, start_lng, end_lat, end_lng, member_casual, year, month, day, day_of_week, ride_length]\n",
      "Index: []\n"
     ]
    },
    {
     "data": {
      "text/plain": [
       "member    599275\n",
       "casual    406832\n",
       "Name: member_casual, dtype: int64"
      ]
     },
     "execution_count": 13,
     "metadata": {},
     "output_type": "execute_result"
    },
    {
     "data": {
      "text/plain": [
       "classic_bike     490758\n",
       "electric_bike    476824\n",
       "docked_bike       38525\n",
       "Name: rideable_type, dtype: int64"
      ]
     },
     "execution_count": 13,
     "metadata": {},
     "output_type": "execute_result"
    },
    {
     "data": {
      "text/plain": [
       "Timestamp('2022-05-31 23:59:56')"
      ]
     },
     "execution_count": 13,
     "metadata": {},
     "output_type": "execute_result"
    },
    {
     "data": {
      "text/plain": [
       "Timestamp('2022-04-01 00:01:48')"
      ]
     },
     "execution_count": 13,
     "metadata": {},
     "output_type": "execute_result"
    },
    {
     "name": "stdout",
     "output_type": "stream",
     "text": [
      "                 ride_id  rideable_type          started_at  \\\n",
      "592385  0793C9208A64302A  electric_bike 2022-05-30 11:06:29   \n",
      "\n",
      "                  ended_at       start_station_name start_station_id  \\\n",
      "592385 2022-05-30 11:06:17  Broadway & Waveland Ave            13325   \n",
      "\n",
      "       end_station_name end_station_id  start_lat  start_lng  end_lat  \\\n",
      "592385              NaN            NaN  41.949069 -87.648499    41.95   \n",
      "\n",
      "        end_lng member_casual  year  month  day day_of_week  ride_length  \n",
      "592385   -87.65        casual  2022      5   30      Monday        -12.0  \n"
     ]
    }
   ],
   "source": [
    "# Check for duplicate rows\n",
    "df_dupes = df[df.duplicated(['ride_id'])]\n",
    "print(df_dupes)\n",
    "# Check for inconsistent data (i.e. more than 2 member types)\n",
    "df['member_casual'].value_counts()\n",
    "df['rideable_type'].value_counts()\n",
    "# Check data is within date range\n",
    "df['started_at'].max()\n",
    "df['started_at'].min()\n",
    "# Check for negative ride durations\n",
    "negative_ride_length = df[(df['ride_length'] < 0)]\n",
    "print(negative_ride_length)"
   ]
  },
  {
   "cell_type": "code",
   "execution_count": null,
   "metadata": {},
   "outputs": [],
   "source": [
    "# Check for inconsistent data (i.e. more than 2 member types)\n",
    "df['member_casual'].value_counts()\n",
    "df['rideable_type'].value_counts()\n",
    "# Check data is within date range\n",
    "df['started_at'].max()\n",
    "df['started_at'].min()\n",
    "# Check for negative ride durations\n",
    "negative_ride_length = df[(df['ride_length'].dt.total_seconds() < 0)]\n",
    "print(negative_ride_length)"
   ]
  },
  {
   "cell_type": "code",
   "execution_count": null,
   "metadata": {},
   "outputs": [],
   "source": [
    "# Remove irrelevant columns and missing rows\n",
    "df.drop(['start_lat', 'start_lng', 'end_lat', 'end_lng'], axis = 1, inplace = True)\n",
    "df.dropna(subset = ['start_station_name', 'end_station_name'])\n",
    "\n",
    "# Drop rows with docked_bike or negative ride length\n",
    "df = df[(df['rideable_type'] != 'docked_bike') & (df['ride_length'].dt.total_seconds() > 0)]="
   ]
  },
  {
   "cell_type": "code",
   "execution_count": 21,
   "metadata": {},
   "outputs": [
    {
     "data": {
      "text/plain": [
       "count    967503.000000\n",
       "mean       1022.326001\n",
       "std        2770.669564\n",
       "min           1.000000\n",
       "25%         347.000000\n",
       "50%         623.000000\n",
       "75%        1133.000000\n",
       "max       90032.000000\n",
       "Name: ride_length, dtype: float64"
      ]
     },
     "execution_count": 21,
     "metadata": {},
     "output_type": "execute_result"
    }
   ],
   "source": [
    "df['ride_length'].describe()"
   ]
  },
  {
   "cell_type": "code",
   "execution_count": 22,
   "metadata": {},
   "outputs": [
    {
     "name": "stdout",
     "output_type": "stream",
     "text": [
      "day_of_week  member_casual\n",
      "Sunday       casual           1600.730226\n",
      "             member            826.490569\n",
      "Monday       casual           1488.818870\n",
      "             member            748.737829\n",
      "Tuesday      casual           1300.343166\n",
      "             member            719.519321\n",
      "Wednesday    casual           1209.867370\n",
      "             member            694.564649\n",
      "Thursday     casual           1340.308293\n",
      "             member            744.347767\n",
      "Friday       casual           1312.516846\n",
      "             member            718.146433\n",
      "Saturday     casual           1649.272563\n",
      "             member            851.650341\n",
      "Name: ride_length, dtype: float64\n"
     ]
    }
   ],
   "source": [
    "# Group by day of week and member type, then aggregate average ride length\n",
    "df1 = df.groupby(['day_of_week', 'member_casual'])['ride_length'].mean()\n",
    "print(df1)"
   ]
  },
  {
   "cell_type": "code",
   "execution_count": null,
   "metadata": {},
   "outputs": [],
   "source": [
    "#Plot average ride length vs Month\n",
    "plt.figure(figsize=[15, 14])\n",
    "sns.barplot(data = df, x = 'day_of_week', y = 'ride_length', hue = 'member_casual')\n",
    "plt.title('Average Ride Length vs. Day of the Week')\n",
    "plt.xlabel('Day of the Week')\n",
    "plt.ylabel('Average Ride Length (seconds)')"
   ]
  },
  {
   "cell_type": "code",
   "execution_count": 24,
   "metadata": {},
   "outputs": [
    {
     "data": {
      "text/plain": [
       "<Figure size 1080x1008 with 0 Axes>"
      ]
     },
     "execution_count": 24,
     "metadata": {},
     "output_type": "execute_result"
    },
    {
     "data": {
      "text/plain": [
       "<AxesSubplot:xlabel='day_of_week', ylabel='count'>"
      ]
     },
     "execution_count": 24,
     "metadata": {},
     "output_type": "execute_result"
    },
    {
     "data": {
      "image/png": "[encoded data removed]",
      "text/plain": [
       "<Figure size 1080x1008 with 1 Axes>"
      ]
     },
     "metadata": {
      "needs_background": "light"
     },
     "output_type": "display_data"
    }
   ],
   "source": [
    "#Plot number of rides vs. day of the week\n",
    "plt.figure(figsize=[15, 14])\n",
    "sns.countplot(data = df, x = 'day_of_week', hue = 'member_casual')\n",
    "plt.title('Number of Rides vs. Day of the Week')\n",
    "plt.xlabel('Day of the Week')\n",
    "plt.ylabel('Number of Rides')"
   ]
  },
  {
   "cell_type": "code",
   "execution_count": null,
   "metadata": {},
   "outputs": [],
   "source": []
  }
 ],
 "metadata": {
  "kernelspec": {
   "display_name": "Python 3.10.4 64-bit",
   "language": "python",
   "name": "python3"
  },
  "language_info": {
   "codemirror_mode": {
    "name": "ipython",
    "version": 3
   },
   "file_extension": ".py",
   "mimetype": "text/x-python",
   "name": "python",
   "nbconvert_exporter": "python",
   "pygments_lexer": "ipython3",
   "version": "3.10.4"
  },
  "orig_nbformat": 4,
  "vscode": {
   "interpreter": {
    "hash": "853b99181d0ba022bad1ace1542ec9e2b21fc0c2da2392c4130ad8552760e2b5"
   }
  }
 },
 "nbformat": 4,
 "nbformat_minor": 2
}
